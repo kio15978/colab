{
  "nbformat": 4,
  "nbformat_minor": 0,
  "metadata": {
    "colab": {
      "provenance": [],
      "authorship_tag": "ABX9TyP6CYcS5Q7Jj4i++fPF4hnC",
      "include_colab_link": true
    },
    "kernelspec": {
      "name": "python3",
      "display_name": "Python 3"
    },
    "language_info": {
      "name": "python"
    }
  },
  "cells": [
    {
      "cell_type": "markdown",
      "metadata": {
        "id": "view-in-github",
        "colab_type": "text"
      },
      "source": [
        "<a href=\"https://colab.research.google.com/github/kio15978/colab/blob/main/%ED%98%84%EB%8C%80_%EC%BA%90%ED%94%BC%ED%83%88_%EB%A7%9E%EC%B6%A4%EB%B2%95_%EA%B2%80%EC%82%AC.ipynb\" target=\"_parent\"><img src=\"https://colab.research.google.com/assets/colab-badge.svg\" alt=\"Open In Colab\"/></a>"
      ]
    },
    {
      "cell_type": "code",
      "source": [
        "pip install git+https://github.com/ssut/py-hanspell.git"
      ],
      "metadata": {
        "colab": {
          "base_uri": "https://localhost:8080/"
        },
        "id": "1k6H1Awd7cZ2",
        "outputId": "3b26e974-b9ea-4eb8-fb6f-0d536375d603"
      },
      "execution_count": 11,
      "outputs": [
        {
          "output_type": "stream",
          "name": "stdout",
          "text": [
            "Looking in indexes: https://pypi.org/simple, https://us-python.pkg.dev/colab-wheels/public/simple/\n",
            "Collecting git+https://github.com/ssut/py-hanspell.git\n",
            "  Cloning https://github.com/ssut/py-hanspell.git to /tmp/pip-req-build-8iue279f\n",
            "  Running command git clone --filter=blob:none --quiet https://github.com/ssut/py-hanspell.git /tmp/pip-req-build-8iue279f\n",
            "  Resolved https://github.com/ssut/py-hanspell.git to commit 8e993cf46f97f9d665c15633a0fc78ac1b727713\n",
            "  Preparing metadata (setup.py) ... \u001b[?25l\u001b[?25hdone\n",
            "Requirement already satisfied: requests in /usr/local/lib/python3.8/dist-packages (from py-hanspell==1.1) (2.25.1)\n",
            "Requirement already satisfied: idna<3,>=2.5 in /usr/local/lib/python3.8/dist-packages (from requests->py-hanspell==1.1) (2.10)\n",
            "Requirement already satisfied: chardet<5,>=3.0.2 in /usr/local/lib/python3.8/dist-packages (from requests->py-hanspell==1.1) (4.0.0)\n",
            "Requirement already satisfied: urllib3<1.27,>=1.21.1 in /usr/local/lib/python3.8/dist-packages (from requests->py-hanspell==1.1) (1.24.3)\n",
            "Requirement already satisfied: certifi>=2017.4.17 in /usr/local/lib/python3.8/dist-packages (from requests->py-hanspell==1.1) (2022.12.7)\n"
          ]
        }
      ]
    },
    {
      "cell_type": "code",
      "source": [
        "import pandas as pd\n",
        "sent = pd.read_excel('/content/HYUNDAI_CAP.xlsx').content"
      ],
      "metadata": {
        "id": "HVcV2jzJ8Obn"
      },
      "execution_count": 18,
      "outputs": []
    },
    {
      "cell_type": "code",
      "source": [
        "print(type(sent)) "
      ],
      "metadata": {
        "colab": {
          "base_uri": "https://localhost:8080/"
        },
        "id": "iqzrrvIJ_Y5S",
        "outputId": "efb3295c-4c73-4254-e12c-ad8c7ffef38d"
      },
      "execution_count": 27,
      "outputs": [
        {
          "output_type": "stream",
          "name": "stdout",
          "text": [
            "<class 'str'>\n"
          ]
        }
      ]
    },
    {
      "cell_type": "code",
      "source": [
        "print(sent)"
      ],
      "metadata": {
        "colab": {
          "base_uri": "https://localhost:8080/"
        },
        "id": "BwvOu3Uj8fRf",
        "outputId": "4af3ce7c-a30d-4dc5-8268-a85c9978ea17"
      },
      "execution_count": 7,
      "outputs": [
        {
          "output_type": "stream",
          "name": "stdout",
          "text": [
            "0       너무 느려요. 접속할때마다 로딩이 너무 오래 걸리고 결제할때도 오류 매번 나서 들어...\n",
            "1       어플 로딩이 기본적으로 너무 오래 걸리고. 버튼 하나하나 누를때마다 로딩 걸리는거 ...\n",
            "2       차량구입 하면서 사용하게 되었는데 필요한 정보들이 한 눈에 들어와서 편하더라구요. ...\n",
            "3       이번 자동차 할부를 이용하면서 사용하게되었습니다. 앱이 일단 직관적인 인터페이스로 ...\n",
            "4       패스워드 설정에 이상한 조건 좀 달지마요. 이런 어플들때문에 때문에 패스워드 꼬여서...\n",
            "                              ...                        \n",
            "3319                                                 Good\n",
            "3320                                                   없음\n",
            "3321                                                  쓰레기\n",
            "3322                                                 good\n",
            "3323                                                    ㆍ\n",
            "Name: content, Length: 3324, dtype: object\n"
          ]
        }
      ]
    },
    {
      "cell_type": "code",
      "source": [
        "from hanspell import spell_checker\n",
        "\n",
        "spelled_sent = spell_checker.check(sent)\n",
        "hanspell_sent = spelled_sent.checked"
      ],
      "metadata": {
        "id": "a6w55c3V7juZ"
      },
      "execution_count": 19,
      "outputs": []
    },
    {
      "cell_type": "code",
      "source": [
        "print(hanspell_sent)"
      ],
      "metadata": {
        "colab": {
          "base_uri": "https://localhost:8080/"
        },
        "id": "n9fn6hxa8dEU",
        "outputId": "be691f2a-7be4-4e5a-8a0f-b85e908eb45a"
      },
      "execution_count": 20,
      "outputs": [
        {
          "output_type": "stream",
          "name": "stdout",
          "text": [
            "\n"
          ]
        }
      ]
    },
    {
      "cell_type": "code",
      "source": [
        "from hanspell import spell_checker\n",
        "\n",
        "import pandas as pd\n",
        "txt = pd.read_excel('/content/HYUNDAI_CAP.xlsx').content\n",
        "\n",
        "new_txt=[]\n",
        "for i in txt:\n",
        "    new_txt.append(i.replace('\\n',\"\"))\n",
        "    str_txt=\"\"\n",
        "for i in new_txt:\n",
        "    str_txt =str_txt + i + \"\"\n",
        "\n",
        "# for x in range(3):\n",
        "#     ['sent{}'.format(x)]=str_txt[500*x:500*x+499]\n",
        "\n",
        "for i in range(0, 50):\n",
        "    globals()['sent{}'.format(i)] = str_txt[500*i:500*i+499]\n",
        "    # print(globals()['sent{}'.format(i)])\n",
        "    \n",
        "\n",
        "    spelled_sent = spell_checker.check(globals()['sent{}'.format(i)])\n",
        "    # print(spelled_sent)\n",
        "    checked_sent = spelled_sent.checked\n",
        "    # print(checked_sent)\n",
        "\n",
        "    f=open('/content/2.txt','a+',encoding='utf8')\n",
        "    f.write(checked_sent)\n",
        "    f.close()\n"
      ],
      "metadata": {
        "id": "4L6WOozIATjV"
      },
      "execution_count": 29,
      "outputs": []
    }
  ]
}