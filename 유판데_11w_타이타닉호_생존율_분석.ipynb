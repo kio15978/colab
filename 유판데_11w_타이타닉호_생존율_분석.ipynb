{
  "nbformat": 4,
  "nbformat_minor": 0,
  "metadata": {
    "colab": {
      "name": "유판데 11w -  타이타닉호 생존율 분석.ipynb",
      "provenance": [],
      "collapsed_sections": [],
      "authorship_tag": "ABX9TyOGQf2x2Ej+4SfiJQj/ojbZ",
      "include_colab_link": true
    },
    "kernelspec": {
      "name": "python3",
      "display_name": "Python 3"
    },
    "language_info": {
      "name": "python"
    }
  },
  "cells": [
    {
      "cell_type": "markdown",
      "metadata": {
        "id": "view-in-github",
        "colab_type": "text"
      },
      "source": [
        "<a href=\"https://colab.research.google.com/github/kio15978/colab/blob/main/%EC%9C%A0%ED%8C%90%EB%8D%B0_11w_%ED%83%80%EC%9D%B4%ED%83%80%EB%8B%89%ED%98%B8_%EC%83%9D%EC%A1%B4%EC%9C%A8_%EB%B6%84%EC%84%9D.ipynb\" target=\"_parent\"><img src=\"https://colab.research.google.com/assets/colab-badge.svg\" alt=\"Open In Colab\"/></a>"
      ]
    },
    {
      "cell_type": "markdown",
      "source": [
        "# **유판데 11w -  타이타닉호 생존율 분석**"
      ],
      "metadata": {
        "id": "mHKwH8jM_e0B"
      }
    },
    {
      "cell_type": "markdown",
      "source": [
        "\n",
        "\n",
        "---\n",
        "\n"
      ],
      "metadata": {
        "id": "y6cQWHq1CwrR"
      }
    },
    {
      "cell_type": "markdown",
      "source": [
        "\\"
      ],
      "metadata": {
        "id": "CLuJJMEpCxh_"
      }
    },
    {
      "cell_type": "markdown",
      "source": [
        "# **< 데이터 수집 >**"
      ],
      "metadata": {
        "id": "nGyL5-TOAjRa"
      }
    },
    {
      "cell_type": "code",
      "execution_count": 1,
      "metadata": {
        "id": "EM48Oyui_WZB"
      },
      "outputs": [],
      "source": [
        "import seaborn as sns"
      ]
    },
    {
      "cell_type": "code",
      "source": [
        "import pandas as pd"
      ],
      "metadata": {
        "id": "LJmjNwX3_lst"
      },
      "execution_count": 2,
      "outputs": []
    },
    {
      "cell_type": "markdown",
      "source": [
        "**타이타닉 데이터 로드**"
      ],
      "metadata": {
        "id": "J4kN0h5aAF3D"
      }
    },
    {
      "cell_type": "code",
      "source": [
        "titanic = sns.load_dataset(\"titanic\")"
      ],
      "metadata": {
        "id": "PfQJ03Q1_wCE"
      },
      "execution_count": 5,
      "outputs": []
    },
    {
      "cell_type": "code",
      "source": [
        "titanic.to_csv('titanic.csv')"
      ],
      "metadata": {
        "id": "zJGF_goZ_m9F"
      },
      "execution_count": 6,
      "outputs": []
    },
    {
      "cell_type": "markdown",
      "source": [
        "\\"
      ],
      "metadata": {
        "id": "EqykuhU1Cv0z"
      }
    },
    {
      "cell_type": "markdown",
      "source": [
        "# **< 데이터 준비 >**"
      ],
      "metadata": {
        "id": "tsK5tnpBAmkr"
      }
    },
    {
      "cell_type": "markdown",
      "source": [
        "**변수 별 결측치 개수 확인**"
      ],
      "metadata": {
        "id": "vPga70I6BYm0"
      }
    },
    {
      "cell_type": "code",
      "source": [
        "titanic.isnull().sum()"
      ],
      "metadata": {
        "colab": {
          "base_uri": "https://localhost:8080/"
        },
        "id": "35vBkgzY_qCj",
        "outputId": "6ab24d33-2f09-4470-81bc-d68ca57115e1"
      },
      "execution_count": 7,
      "outputs": [
        {
          "output_type": "execute_result",
          "data": {
            "text/plain": [
              "survived         0\n",
              "pclass           0\n",
              "sex              0\n",
              "age            177\n",
              "sibsp            0\n",
              "parch            0\n",
              "fare             0\n",
              "embarked         2\n",
              "class            0\n",
              "who              0\n",
              "adult_male       0\n",
              "deck           688\n",
              "embark_town      2\n",
              "alive            0\n",
              "alone            0\n",
              "dtype: int64"
            ]
          },
          "metadata": {},
          "execution_count": 7
        }
      ]
    },
    {
      "cell_type": "markdown",
      "source": [
        "**age 결측치 중앙값으로 대체**"
      ],
      "metadata": {
        "id": "QD2S0hv9Bb_3"
      }
    },
    {
      "cell_type": "code",
      "source": [
        "titanic['age'] = titanic['age'].fillna(titanic['age'].median())"
      ],
      "metadata": {
        "id": "8gv_H2TGAxGQ"
      },
      "execution_count": 8,
      "outputs": []
    },
    {
      "cell_type": "markdown",
      "source": [
        "**◆ .value_counts()**\n",
        "\n",
        "***각 종류별로 몇 개의 데이터가 있는지 세어주는 것***"
      ],
      "metadata": {
        "id": "IsetobHECG5y"
      }
    },
    {
      "cell_type": "code",
      "source": [
        "titanic['embark_town'].value_counts()"
      ],
      "metadata": {
        "colab": {
          "base_uri": "https://localhost:8080/"
        },
        "id": "_onawkoEA6s3",
        "outputId": "a70d71dd-731a-4697-f09a-8756331ee111"
      },
      "execution_count": 9,
      "outputs": [
        {
          "output_type": "execute_result",
          "data": {
            "text/plain": [
              "Southampton    644\n",
              "Cherbourg      168\n",
              "Queenstown      77\n",
              "Name: embark_town, dtype: int64"
            ]
          },
          "metadata": {},
          "execution_count": 9
        }
      ]
    },
    {
      "cell_type": "markdown",
      "source": [
        "-> embark_town 결측치 총 2개 있는데\n",
        "\n",
        "embark_twon 종류별 데이터 개수를 확인해 보면 Southampton이 가장 많음\n",
        "\n",
        "-> 결측치 Southampton"
      ],
      "metadata": {
        "id": "VQDd7uqvCVyw"
      }
    },
    {
      "cell_type": "markdown",
      "source": [
        "**embark_town의 결측치 Southampton으로 채워 넣기**"
      ],
      "metadata": {
        "id": "qty6bYULCQoE"
      }
    },
    {
      "cell_type": "code",
      "source": [
        "titanic['embark_town'] = titanic['embark_town'].fillna('Southampton')"
      ],
      "metadata": {
        "id": "psgG1pKrA_4N"
      },
      "execution_count": 10,
      "outputs": []
    },
    {
      "cell_type": "code",
      "source": [
        "titanic['deck'].value_counts()"
      ],
      "metadata": {
        "colab": {
          "base_uri": "https://localhost:8080/"
        },
        "id": "AmK1-E6sBHcH",
        "outputId": "80c304c1-f768-4783-fd2a-3ac9af960e3e"
      },
      "execution_count": 12,
      "outputs": [
        {
          "output_type": "execute_result",
          "data": {
            "text/plain": [
              "C    59\n",
              "B    47\n",
              "D    33\n",
              "E    32\n",
              "A    15\n",
              "F    13\n",
              "G     4\n",
              "Name: deck, dtype: int64"
            ]
          },
          "metadata": {},
          "execution_count": 12
        }
      ]
    },
    {
      "cell_type": "markdown",
      "source": [
        "**deck의 결측치 C로 채워넣기**"
      ],
      "metadata": {
        "id": "cEhbgd9hCm7I"
      }
    },
    {
      "cell_type": "code",
      "source": [
        "titanic['deck'] = titanic['deck'].fillna('C')"
      ],
      "metadata": {
        "id": "7U8nuMXtBKv8"
      },
      "execution_count": 13,
      "outputs": []
    },
    {
      "cell_type": "code",
      "source": [
        "titanic.isnull().sum()"
      ],
      "metadata": {
        "colab": {
          "base_uri": "https://localhost:8080/"
        },
        "id": "9r8lprcCBQ8I",
        "outputId": "72d0b868-06db-435e-9bf9-6744681bc489"
      },
      "execution_count": 14,
      "outputs": [
        {
          "output_type": "execute_result",
          "data": {
            "text/plain": [
              "survived       0\n",
              "pclass         0\n",
              "sex            0\n",
              "age            0\n",
              "sibsp          0\n",
              "parch          0\n",
              "fare           0\n",
              "embarked       2\n",
              "class          0\n",
              "who            0\n",
              "adult_male     0\n",
              "deck           0\n",
              "embark_town    0\n",
              "alive          0\n",
              "alone          0\n",
              "dtype: int64"
            ]
          },
          "metadata": {},
          "execution_count": 14
        }
      ]
    },
    {
      "cell_type": "markdown",
      "source": [
        "\\"
      ],
      "metadata": {
        "id": "YvVenLGSCu0O"
      }
    },
    {
      "cell_type": "markdown",
      "source": [
        "# **< 데이터 탐색 >**"
      ],
      "metadata": {
        "id": "dYvin5oJCuRR"
      }
    },
    {
      "cell_type": "markdown",
      "source": [
        "## **1. 데이터의 기본 정보 탐색**"
      ],
      "metadata": {
        "id": "-fea-bvBC26S"
      }
    },
    {
      "cell_type": "markdown",
      "source": [
        "**타이타닉 데이터의 기본 정보 확인**"
      ],
      "metadata": {
        "id": "7x31bpRPDEA3"
      }
    },
    {
      "cell_type": "code",
      "source": [
        "titanic.info()"
      ],
      "metadata": {
        "colab": {
          "base_uri": "https://localhost:8080/"
        },
        "id": "zHn-7pqbBSRx",
        "outputId": "6fbba554-bae6-433d-c2eb-3f1fb930bdf8"
      },
      "execution_count": 15,
      "outputs": [
        {
          "output_type": "stream",
          "name": "stdout",
          "text": [
            "<class 'pandas.core.frame.DataFrame'>\n",
            "RangeIndex: 891 entries, 0 to 890\n",
            "Data columns (total 15 columns):\n",
            " #   Column       Non-Null Count  Dtype   \n",
            "---  ------       --------------  -----   \n",
            " 0   survived     891 non-null    int64   \n",
            " 1   pclass       891 non-null    int64   \n",
            " 2   sex          891 non-null    object  \n",
            " 3   age          891 non-null    float64 \n",
            " 4   sibsp        891 non-null    int64   \n",
            " 5   parch        891 non-null    int64   \n",
            " 6   fare         891 non-null    float64 \n",
            " 7   embarked     889 non-null    object  \n",
            " 8   class        891 non-null    category\n",
            " 9   who          891 non-null    object  \n",
            " 10  adult_male   891 non-null    bool    \n",
            " 11  deck         891 non-null    category\n",
            " 12  embark_town  891 non-null    object  \n",
            " 13  alive        891 non-null    object  \n",
            " 14  alone        891 non-null    bool    \n",
            "dtypes: bool(2), category(2), float64(2), int64(4), object(5)\n",
            "memory usage: 80.7+ KB\n"
          ]
        }
      ]
    },
    {
      "cell_type": "markdown",
      "source": [
        "-> 전체 샘플 수 : 891  속성 : 15\n"
      ],
      "metadata": {
        "id": "hciGSjWtDLH_"
      }
    },
    {
      "cell_type": "markdown",
      "source": [
        "**(+ 타이타닉 변수 설명)**\n",
        "\n",
        "pclass, class : 객실 등급\n",
        "\n",
        "sibsp : 함께 탑승한 형제자매와 배우자 수\n",
        "\n",
        "parch : 함꼐 탑승한 부모/자식 수\n",
        "\n",
        "embarked, embarked_town : 탑승 항구\n",
        "\n",
        "adult_male : 성인 남자 여부\n",
        "\n",
        "alone : 동행 여부 True/False\n"
      ],
      "metadata": {
        "id": "yRA7Vi9MDbbc"
      }
    },
    {
      "cell_type": "markdown",
      "source": [
        "**survived 속성값의 빈도 확인**"
      ],
      "metadata": {
        "id": "ld2LZrf7DGum"
      }
    },
    {
      "cell_type": "code",
      "source": [
        "titanic.survived.value_counts()"
      ],
      "metadata": {
        "colab": {
          "base_uri": "https://localhost:8080/"
        },
        "id": "eVzSPD88C9yV",
        "outputId": "9de3c0de-5eb6-4501-f295-726450ced5fb"
      },
      "execution_count": 17,
      "outputs": [
        {
          "output_type": "execute_result",
          "data": {
            "text/plain": [
              "0    549\n",
              "1    342\n",
              "Name: survived, dtype: int64"
            ]
          },
          "metadata": {},
          "execution_count": 17
        }
      ]
    },
    {
      "cell_type": "markdown",
      "source": [
        "-> 샘플의 891명 중에\n",
        "\n",
        "생존자 : 342명 (1)    사망자 : 549 (0)"
      ],
      "metadata": {
        "id": "FcZyzxLNDTOq"
      }
    },
    {
      "cell_type": "markdown",
      "source": [
        "## **2. 차트 그려 데이터를 시각적으로 탐색**"
      ],
      "metadata": {
        "id": "xsfYoY_PDwzF"
      }
    },
    {
      "cell_type": "markdown",
      "source": [
        "**차트 그리기 위해 matplotlib.pyplot 로드**\n",
        "\n"
      ],
      "metadata": {
        "id": "akYjWorvEgpv"
      }
    },
    {
      "cell_type": "code",
      "source": [
        "import matplotlib.pyplot as plt"
      ],
      "metadata": {
        "id": "0wJXGS9vDAfD"
      },
      "execution_count": 18,
      "outputs": []
    },
    {
      "cell_type": "markdown",
      "source": [
        "### **남자 승객과 여자 승객의 생존율을 pie 차트로 그리기**"
      ],
      "metadata": {
        "id": "O1KR3-cnEl-O"
      }
    },
    {
      "cell_type": "markdown",
      "source": [
        "**한 줄에 두 개의 차트를 그리도록 하고 크기 설정**"
      ],
      "metadata": {
        "id": "tnuIfKv6Eq04"
      }
    },
    {
      "cell_type": "code",
      "source": [
        "f,ax=plt.subplots(1,2,figsize=(10,5))"
      ],
      "metadata": {
        "colab": {
          "base_uri": "https://localhost:8080/",
          "height": 324
        },
        "id": "SZzpIGdjD4B3",
        "outputId": "0093a60f-7c26-45d6-d3ff-a9460fa94277"
      },
      "execution_count": 19,
      "outputs": [
        {
          "output_type": "display_data",
          "data": {
            "text/plain": [
              "<Figure size 720x360 with 2 Axes>"
            ],
            "image/png": "[encoded data removed]"
          },
          "metadata": {
            "needs_background": "light"
          }
        }
      ]
    },
    {
      "cell_type": "markdown",
      "source": [
        "**첫 번째 pie 차트는 남자 승객의 생존율**"
      ],
      "metadata": {
        "id": "wupcbWH8Eu_w"
      }
    },
    {
      "cell_type": "code",
      "source": [
        "titanic['survived'][titanic['sex'] == 'male'].value_counts().plot.pie(explode = [0,0.1], autopct = '%1.1f%%', ax = ax[0], shadow = True)"
      ],
      "metadata": {
        "colab": {
          "base_uri": "https://localhost:8080/"
        },
        "id": "tTqrWqqsD8NR",
        "outputId": "b9079bbb-3fae-4857-de2a-07c38f00df33"
      },
      "execution_count": 24,
      "outputs": [
        {
          "output_type": "execute_result",
          "data": {
            "text/plain": [
              "<matplotlib.axes._subplots.AxesSubplot at 0x7fe05ecebf50>"
            ]
          },
          "metadata": {},
          "execution_count": 24
        }
      ]
    },
    {
      "cell_type": "markdown",
      "source": [
        "**두 번째 pie 차트는 여자 승객의 생존율**"
      ],
      "metadata": {
        "id": "D7t2TNF0Ey7W"
      }
    },
    {
      "cell_type": "code",
      "source": [
        " titanic['survived'][titanic['sex'] == 'female'].value_counts().plot.pie(explode = [0,0.1], autopct = '%1.1f%%', ax = ax[1], shadow = True)"
      ],
      "metadata": {
        "colab": {
          "base_uri": "https://localhost:8080/"
        },
        "id": "3rmBXQCAEHg5",
        "outputId": "8db74687-8819-4e51-e7fd-f42f87ad2061"
      },
      "execution_count": 25,
      "outputs": [
        {
          "output_type": "execute_result",
          "data": {
            "text/plain": [
              "<matplotlib.axes._subplots.AxesSubplot at 0x7fe05ecd1c10>"
            ]
          },
          "metadata": {},
          "execution_count": 25
        }
      ]
    },
    {
      "cell_type": "markdown",
      "source": [
        "**첫 번째 차트 제목 설정**"
      ],
      "metadata": {
        "id": "BORk38eeE13a"
      }
    },
    {
      "cell_type": "code",
      "source": [
        "ax[0].set_title('Survived (Male)')"
      ],
      "metadata": {
        "colab": {
          "base_uri": "https://localhost:8080/"
        },
        "id": "w4uUbQwZEK-a",
        "outputId": "6c151655-a156-492d-f3b3-528fb538b811"
      },
      "execution_count": 27,
      "outputs": [
        {
          "output_type": "execute_result",
          "data": {
            "text/plain": [
              "Text(0.5, 1.0, 'Survived (Male)')"
            ]
          },
          "metadata": {},
          "execution_count": 27
        }
      ]
    },
    {
      "cell_type": "markdown",
      "source": [
        "**두 번째 차트 제목 설정**"
      ],
      "metadata": {
        "id": "77cKXKLxE57S"
      }
    },
    {
      "cell_type": "code",
      "source": [
        " ax[1].set_title('Survived (Female)')"
      ],
      "metadata": {
        "colab": {
          "base_uri": "https://localhost:8080/"
        },
        "id": "R5B6xu-9ELIt",
        "outputId": "9052138a-b474-4ff0-c7ad-937cc47545d5"
      },
      "execution_count": 28,
      "outputs": [
        {
          "output_type": "execute_result",
          "data": {
            "text/plain": [
              "Text(0.5, 1.0, 'Survived (Female)')"
            ]
          },
          "metadata": {},
          "execution_count": 28
        }
      ]
    },
    {
      "cell_type": "code",
      "source": [
        "plt.show()"
      ],
      "metadata": {
        "id": "PZKF98qPENb-"
      },
      "execution_count": 30,
      "outputs": []
    },
    {
      "cell_type": "markdown",
      "source": [
        "## **3. 등급별 생존자 수를 차트로 나타내기**"
      ],
      "metadata": {
        "id": "p5N_Iq8RFCr4"
      }
    },
    {
      "cell_type": "markdown",
      "source": [
        "**pclass 유형 1,2,3을 x축으로 하고**\n",
        "\n",
        "**survived=0과 survived=1의 개수를 계산하여**\n",
        "\n",
        "**y축으로 하는 countplot 설정**\n",
        "\n"
      ],
      "metadata": {
        "id": "fKFsVE6AFSWt"
      }
    },
    {
      "cell_type": "code",
      "source": [
        "sns.countplot('pclass',hue='survived',data=titanic)"
      ],
      "metadata": {
        "colab": {
          "base_uri": "https://localhost:8080/",
          "height": 354
        },
        "id": "mhcEfHSxEe7B",
        "outputId": "5f4a2aa6-160f-40c6-d201-28f61a66b623"
      },
      "execution_count": 31,
      "outputs": [
        {
          "output_type": "stream",
          "name": "stderr",
          "text": [
            "/usr/local/lib/python3.7/dist-packages/seaborn/_decorators.py:43: FutureWarning: Pass the following variable as a keyword arg: x. From version 0.12, the only valid positional argument will be `data`, and passing other arguments without an explicit keyword will result in an error or misinterpretation.\n",
            "  FutureWarning\n"
          ]
        },
        {
          "output_type": "execute_result",
          "data": {
            "text/plain": [
              "<matplotlib.axes._subplots.AxesSubplot at 0x7fe05e6f09d0>"
            ]
          },
          "metadata": {},
          "execution_count": 31
        },
        {
          "output_type": "display_data",
          "data": {
            "text/plain": [
              "<Figure size 432x288 with 1 Axes>"
            ],
            "image/png": "[encoded data removed]"
          },
          "metadata": {
            "needs_background": "light"
          }
        }
      ]
    },
    {
      "cell_type": "markdown",
      "source": [
        "**차트 제목 설정**"
      ],
      "metadata": {
        "id": "V95ppYlZF7HL"
      }
    },
    {
      "cell_type": "code",
      "source": [
        "plt.title('Pclass vs Survived')"
      ],
      "metadata": {
        "colab": {
          "base_uri": "https://localhost:8080/",
          "height": 299
        },
        "id": "U7VdvFRCFNOQ",
        "outputId": "e4b44d9e-8ea0-447b-ee2b-9c59aeaa7c74"
      },
      "execution_count": 32,
      "outputs": [
        {
          "output_type": "execute_result",
          "data": {
            "text/plain": [
              "Text(0.5, 1.0, 'Pclass vs Survived')"
            ]
          },
          "metadata": {},
          "execution_count": 32
        },
        {
          "output_type": "display_data",
          "data": {
            "text/plain": [
              "<Figure size 432x288 with 1 Axes>"
            ],
            "image/png": "[encoded data removed]"
          },
          "metadata": {
            "needs_background": "light"
          }
        }
      ]
    },
    {
      "cell_type": "code",
      "source": [
        "plt.show()"
      ],
      "metadata": {
        "id": "DOxade99FPvq"
      },
      "execution_count": 33,
      "outputs": []
    },
    {
      "cell_type": "markdown",
      "source": [
        "-> 생존자(1)는 1등급에서 가장 많음\n",
        "\n",
        "사망자(0)은 3등급에서 월등히 많음"
      ],
      "metadata": {
        "id": "0GzrGC1bF-ST"
      }
    },
    {
      "cell_type": "markdown",
      "source": [
        "\\"
      ],
      "metadata": {
        "id": "dUqCwrcwHpj6"
      }
    },
    {
      "cell_type": "markdown",
      "source": [
        "# **< 데이터 모델링 >**"
      ],
      "metadata": {
        "id": "P5wDmJQLGD_w"
      }
    },
    {
      "cell_type": "markdown",
      "source": [
        "## **1. 상관 분석을 위한 상관 계수 구하고 저장**"
      ],
      "metadata": {
        "id": "kQqX6_6jGGXS"
      }
    },
    {
      "cell_type": "markdown",
      "source": [
        "**피어슨 상관 계수를 적용하여 상관 계수 구함**"
      ],
      "metadata": {
        "id": "IVD9TI-uGsCT"
      }
    },
    {
      "cell_type": "code",
      "source": [
        "titanic_corr = titanic.corr(method='pearson')"
      ],
      "metadata": {
        "id": "SVAUnQefFQYo"
      },
      "execution_count": 34,
      "outputs": []
    },
    {
      "cell_type": "markdown",
      "source": [
        "**상관 계수 출력**"
      ],
      "metadata": {
        "id": "_zs1FwUfGuqV"
      }
    },
    {
      "cell_type": "code",
      "source": [
        "titanic_corr"
      ],
      "metadata": {
        "colab": {
          "base_uri": "https://localhost:8080/",
          "height": 300
        },
        "id": "ookb3f_9GOBm",
        "outputId": "516538fd-3262-43aa-aa0b-9d1aaaea135a"
      },
      "execution_count": 35,
      "outputs": [
        {
          "output_type": "execute_result",
          "data": {
            "text/plain": [
              "            survived    pclass       age     sibsp     parch      fare  \\\n",
              "survived    1.000000 -0.338481 -0.064910 -0.035322  0.081629  0.257307   \n",
              "pclass     -0.338481  1.000000 -0.339898  0.083081  0.018443 -0.549500   \n",
              "age        -0.064910 -0.339898  1.000000 -0.233296 -0.172482  0.096688   \n",
              "sibsp      -0.035322  0.083081 -0.233296  1.000000  0.414838  0.159651   \n",
              "parch       0.081629  0.018443 -0.172482  0.414838  1.000000  0.216225   \n",
              "fare        0.257307 -0.549500  0.096688  0.159651  0.216225  1.000000   \n",
              "adult_male -0.557080  0.094035  0.247704 -0.253586 -0.349943 -0.182024   \n",
              "alone      -0.203367  0.135207  0.171647 -0.584471 -0.583398 -0.271832   \n",
              "\n",
              "            adult_male     alone  \n",
              "survived     -0.557080 -0.203367  \n",
              "pclass        0.094035  0.135207  \n",
              "age           0.247704  0.171647  \n",
              "sibsp        -0.253586 -0.584471  \n",
              "parch        -0.349943 -0.583398  \n",
              "fare         -0.182024 -0.271832  \n",
              "adult_male    1.000000  0.404744  \n",
              "alone         0.404744  1.000000  "
            ],
            "text/html": [
              "\n",
              "  <div id=\"df-62ad3c17-c94d-464f-b1c7-c277fd64ee16\">\n",
              "    <div class=\"colab-df-container\">\n",
              "      <div>\n",
              "<style scoped>\n",
              "    .dataframe tbody tr th:only-of-type {\n",
              "        vertical-align: middle;\n",
              "    }\n",
              "\n",
              "    .dataframe tbody tr th {\n",
              "        vertical-align: top;\n",
              "    }\n",
              "\n",
              "    .dataframe thead th {\n",
              "        text-align: right;\n",
              "    }\n",
              "</style>\n",
              "<table border=\"1\" class=\"dataframe\">\n",
              "  <thead>\n",
              "    <tr style=\"text-align: right;\">\n",
              "      <th></th>\n",
              "      <th>survived</th>\n",
              "      <th>pclass</th>\n",
              "      <th>age</th>\n",
              "      <th>sibsp</th>\n",
              "      <th>parch</th>\n",
              "      <th>fare</th>\n",
              "      <th>adult_male</th>\n",
              "      <th>alone</th>\n",
              "    </tr>\n",
              "  </thead>\n",
              "  <tbody>\n",
              "    <tr>\n",
              "      <th>survived</th>\n",
              "      <td>1.000000</td>\n",
              "      <td>-0.338481</td>\n",
              "      <td>-0.064910</td>\n",
              "      <td>-0.035322</td>\n",
              "      <td>0.081629</td>\n",
              "      <td>0.257307</td>\n",
              "      <td>-0.557080</td>\n",
              "      <td>-0.203367</td>\n",
              "    </tr>\n",
              "    <tr>\n",
              "      <th>pclass</th>\n",
              "      <td>-0.338481</td>\n",
              "      <td>1.000000</td>\n",
              "      <td>-0.339898</td>\n",
              "      <td>0.083081</td>\n",
              "      <td>0.018443</td>\n",
              "      <td>-0.549500</td>\n",
              "      <td>0.094035</td>\n",
              "      <td>0.135207</td>\n",
              "    </tr>\n",
              "    <tr>\n",
              "      <th>age</th>\n",
              "      <td>-0.064910</td>\n",
              "      <td>-0.339898</td>\n",
              "      <td>1.000000</td>\n",
              "      <td>-0.233296</td>\n",
              "      <td>-0.172482</td>\n",
              "      <td>0.096688</td>\n",
              "      <td>0.247704</td>\n",
              "      <td>0.171647</td>\n",
              "    </tr>\n",
              "    <tr>\n",
              "      <th>sibsp</th>\n",
              "      <td>-0.035322</td>\n",
              "      <td>0.083081</td>\n",
              "      <td>-0.233296</td>\n",
              "      <td>1.000000</td>\n",
              "      <td>0.414838</td>\n",
              "      <td>0.159651</td>\n",
              "      <td>-0.253586</td>\n",
              "      <td>-0.584471</td>\n",
              "    </tr>\n",
              "    <tr>\n",
              "      <th>parch</th>\n",
              "      <td>0.081629</td>\n",
              "      <td>0.018443</td>\n",
              "      <td>-0.172482</td>\n",
              "      <td>0.414838</td>\n",
              "      <td>1.000000</td>\n",
              "      <td>0.216225</td>\n",
              "      <td>-0.349943</td>\n",
              "      <td>-0.583398</td>\n",
              "    </tr>\n",
              "    <tr>\n",
              "      <th>fare</th>\n",
              "      <td>0.257307</td>\n",
              "      <td>-0.549500</td>\n",
              "      <td>0.096688</td>\n",
              "      <td>0.159651</td>\n",
              "      <td>0.216225</td>\n",
              "      <td>1.000000</td>\n",
              "      <td>-0.182024</td>\n",
              "      <td>-0.271832</td>\n",
              "    </tr>\n",
              "    <tr>\n",
              "      <th>adult_male</th>\n",
              "      <td>-0.557080</td>\n",
              "      <td>0.094035</td>\n",
              "      <td>0.247704</td>\n",
              "      <td>-0.253586</td>\n",
              "      <td>-0.349943</td>\n",
              "      <td>-0.182024</td>\n",
              "      <td>1.000000</td>\n",
              "      <td>0.404744</td>\n",
              "    </tr>\n",
              "    <tr>\n",
              "      <th>alone</th>\n",
              "      <td>-0.203367</td>\n",
              "      <td>0.135207</td>\n",
              "      <td>0.171647</td>\n",
              "      <td>-0.584471</td>\n",
              "      <td>-0.583398</td>\n",
              "      <td>-0.271832</td>\n",
              "      <td>0.404744</td>\n",
              "      <td>1.000000</td>\n",
              "    </tr>\n",
              "  </tbody>\n",
              "</table>\n",
              "</div>\n",
              "      <button class=\"colab-df-convert\" onclick=\"convertToInteractive('df-62ad3c17-c94d-464f-b1c7-c277fd64ee16')\"\n",
              "              title=\"Convert this dataframe to an interactive table.\"\n",
              "              style=\"display:none;\">\n",
              "        \n",
              "  <svg xmlns=\"http://www.w3.org/2000/svg\" height=\"24px\"viewBox=\"0 0 24 24\"\n",
              "       width=\"24px\">\n",
              "    <path d=\"M0 0h24v24H0V0z\" fill=\"none\"/>\n",
              "    <path d=\"M18.56 5.44l.94 2.06.94-2.06 2.06-.94-2.06-.94-.94-2.06-.94 2.06-2.06.94zm-11 1L8.5 8.5l.94-2.06 2.06-.94-2.06-.94L8.5 2.5l-.94 2.06-2.06.94zm10 10l.94 2.06.94-2.06 2.06-.94-2.06-.94-.94-2.06-.94 2.06-2.06.94z\"/><path d=\"M17.41 7.96l-1.37-1.37c-.4-.4-.92-.59-1.43-.59-.52 0-1.04.2-1.43.59L10.3 9.45l-7.72 7.72c-.78.78-.78 2.05 0 2.83L4 21.41c.39.39.9.59 1.41.59.51 0 1.02-.2 1.41-.59l7.78-7.78 2.81-2.81c.8-.78.8-2.07 0-2.86zM5.41 20L4 18.59l7.72-7.72 1.47 1.35L5.41 20z\"/>\n",
              "  </svg>\n",
              "      </button>\n",
              "      \n",
              "  <style>\n",
              "    .colab-df-container {\n",
              "      display:flex;\n",
              "      flex-wrap:wrap;\n",
              "      gap: 12px;\n",
              "    }\n",
              "\n",
              "    .colab-df-convert {\n",
              "      background-color: #E8F0FE;\n",
              "      border: none;\n",
              "      border-radius: 50%;\n",
              "      cursor: pointer;\n",
              "      display: none;\n",
              "      fill: #1967D2;\n",
              "      height: 32px;\n",
              "      padding: 0 0 0 0;\n",
              "      width: 32px;\n",
              "    }\n",
              "\n",
              "    .colab-df-convert:hover {\n",
              "      background-color: #E2EBFA;\n",
              "      box-shadow: 0px 1px 2px rgba(60, 64, 67, 0.3), 0px 1px 3px 1px rgba(60, 64, 67, 0.15);\n",
              "      fill: #174EA6;\n",
              "    }\n",
              "\n",
              "    [theme=dark] .colab-df-convert {\n",
              "      background-color: #3B4455;\n",
              "      fill: #D2E3FC;\n",
              "    }\n",
              "\n",
              "    [theme=dark] .colab-df-convert:hover {\n",
              "      background-color: #434B5C;\n",
              "      box-shadow: 0px 1px 3px 1px rgba(0, 0, 0, 0.15);\n",
              "      filter: drop-shadow(0px 1px 2px rgba(0, 0, 0, 0.3));\n",
              "      fill: #FFFFFF;\n",
              "    }\n",
              "  </style>\n",
              "\n",
              "      <script>\n",
              "        const buttonEl =\n",
              "          document.querySelector('#df-62ad3c17-c94d-464f-b1c7-c277fd64ee16 button.colab-df-convert');\n",
              "        buttonEl.style.display =\n",
              "          google.colab.kernel.accessAllowed ? 'block' : 'none';\n",
              "\n",
              "        async function convertToInteractive(key) {\n",
              "          const element = document.querySelector('#df-62ad3c17-c94d-464f-b1c7-c277fd64ee16');\n",
              "          const dataTable =\n",
              "            await google.colab.kernel.invokeFunction('convertToInteractive',\n",
              "                                                     [key], {});\n",
              "          if (!dataTable) return;\n",
              "\n",
              "          const docLinkHtml = 'Like what you see? Visit the ' +\n",
              "            '<a target=\"_blank\" href=https://colab.research.google.com/notebooks/data_table.ipynb>data table notebook</a>'\n",
              "            + ' to learn more about interactive tables.';\n",
              "          element.innerHTML = '';\n",
              "          dataTable['output_type'] = 'display_data';\n",
              "          await google.colab.output.renderOutput(dataTable, element);\n",
              "          const docLink = document.createElement('div');\n",
              "          docLink.innerHTML = docLinkHtml;\n",
              "          element.appendChild(docLink);\n",
              "        }\n",
              "      </script>\n",
              "    </div>\n",
              "  </div>\n",
              "  "
            ]
          },
          "metadata": {},
          "execution_count": 35
        }
      ]
    },
    {
      "cell_type": "code",
      "source": [
        "titanic_corr.to_csv('titanic_corr.csv')\n",
        "files.download('titanic_corr.csv')"
      ],
      "metadata": {
        "colab": {
          "base_uri": "https://localhost:8080/",
          "height": 193
        },
        "id": "hBkHh4B_GPUH",
        "outputId": "60f1fbf1-e1b1-40e1-ad70-459d74711de9"
      },
      "execution_count": 37,
      "outputs": [
        {
          "output_type": "error",
          "ename": "NameError",
          "evalue": "ignored",
          "traceback": [
            "\u001b[0;31m---------------------------------------------------------------------------\u001b[0m",
            "\u001b[0;31mNameError\u001b[0m                                 Traceback (most recent call last)",
            "\u001b[0;32m<ipython-input-37-6736f0d93f1d>\u001b[0m in \u001b[0;36m<module>\u001b[0;34m()\u001b[0m\n\u001b[1;32m      1\u001b[0m \u001b[0mtitanic_corr\u001b[0m\u001b[0;34m.\u001b[0m\u001b[0mto_csv\u001b[0m\u001b[0;34m(\u001b[0m\u001b[0;34m'titanic_corr.csv'\u001b[0m\u001b[0;34m)\u001b[0m\u001b[0;34m\u001b[0m\u001b[0;34m\u001b[0m\u001b[0m\n\u001b[0;32m----> 2\u001b[0;31m \u001b[0mfiles\u001b[0m\u001b[0;34m.\u001b[0m\u001b[0mdownload\u001b[0m\u001b[0;34m(\u001b[0m\u001b[0;34m'titanic_corr.csv'\u001b[0m\u001b[0;34m)\u001b[0m\u001b[0;34m\u001b[0m\u001b[0;34m\u001b[0m\u001b[0m\n\u001b[0m",
            "\u001b[0;31mNameError\u001b[0m: name 'files' is not defined"
          ]
        }
      ]
    },
    {
      "cell_type": "markdown",
      "source": [
        "# **2. 상관 계수 확인**"
      ],
      "metadata": {
        "id": "N3R3GpDZG5rl"
      }
    },
    {
      "cell_type": "markdown",
      "source": [
        "\n",
        "\n",
        "*   남자 성인(adult_male) : 생존(survived)와 음의 상관관계\n",
        "*   객실 등급(pclass) : 음의 상관관계\n",
        "\n",
        "*   관계, 객실 요금(fare)은 양의 상관관계\n",
        "*   동행 없이 혼자 탑승(alone) : 생존율이 떨어진다는 상관관계\n",
        "\n"
      ],
      "metadata": {
        "id": "NbsIzzlBG9RJ"
      }
    },
    {
      "cell_type": "markdown",
      "source": [
        "## **3. 특정 변수 사이의 상관 계수 구하기**"
      ],
      "metadata": {
        "id": "5waPqDr2HRAu"
      }
    },
    {
      "cell_type": "markdown",
      "source": [
        "**survived와 adult_male 변수 사이의 상관 계수**"
      ],
      "metadata": {
        "id": "kVVXjy2THfdl"
      }
    },
    {
      "cell_type": "code",
      "source": [
        "titanic['survived'].corr(titanic['adult_male'])"
      ],
      "metadata": {
        "colab": {
          "base_uri": "https://localhost:8080/"
        },
        "id": "_OtCk1DbGVhD",
        "outputId": "69b0a4ba-1fdb-47d5-c039-9cd397e03aa6"
      },
      "execution_count": 38,
      "outputs": [
        {
          "output_type": "execute_result",
          "data": {
            "text/plain": [
              "-0.5570800422053257"
            ]
          },
          "metadata": {},
          "execution_count": 38
        }
      ]
    },
    {
      "cell_type": "markdown",
      "source": [
        "**survived와 fare 변수 사이의 상관 계수**"
      ],
      "metadata": {
        "id": "O49K8G6yHjJm"
      }
    },
    {
      "cell_type": "code",
      "source": [
        "titanic['survived'].corr(titanic['fare'])"
      ],
      "metadata": {
        "colab": {
          "base_uri": "https://localhost:8080/"
        },
        "id": "ifszXB_8Haf0",
        "outputId": "cd67844c-cf28-404b-99f9-567b0440c428"
      },
      "execution_count": 39,
      "outputs": [
        {
          "output_type": "execute_result",
          "data": {
            "text/plain": [
              "0.2573065223849625"
            ]
          },
          "metadata": {},
          "execution_count": 39
        }
      ]
    },
    {
      "cell_type": "markdown",
      "source": [
        "\\"
      ],
      "metadata": {
        "id": "JmK4jwDWHlzE"
      }
    },
    {
      "cell_type": "markdown",
      "source": [
        "# **< 결과 시각화 >**"
      ],
      "metadata": {
        "id": "JUA9m1iaHlsC"
      }
    },
    {
      "cell_type": "markdown",
      "source": [
        "## **1. 두 변수의 상관관계 시각화**"
      ],
      "metadata": {
        "id": "o276rDzLHthh"
      }
    },
    {
      "cell_type": "markdown",
      "source": [
        "**catplot() 함수 사용 pcalss와 survived 변수의 관계를 차트로 그림**\n",
        "\n",
        "**hue 인자를 이용하여 종속 변수 sex로 지정**"
      ],
      "metadata": {
        "id": "8MM7jPitIHD2"
      }
    },
    {
      "cell_type": "code",
      "source": [
        "sns.catplot(x = 'pclass', y = 'survived', hue = 'sex', data = titanic, kind = 'point')"
      ],
      "metadata": {
        "colab": {
          "base_uri": "https://localhost:8080/",
          "height": 387
        },
        "id": "EKKdjplLHeDo",
        "outputId": "1c99ad48-bad5-4f5e-b930-6272d51b506d"
      },
      "execution_count": 45,
      "outputs": [
        {
          "output_type": "execute_result",
          "data": {
            "text/plain": [
              "<seaborn.axisgrid.FacetGrid at 0x7fe05e61b550>"
            ]
          },
          "metadata": {},
          "execution_count": 45
        },
        {
          "output_type": "display_data",
          "data": {
            "text/plain": [
              "<Figure size 430.5x360 with 1 Axes>"
            ],
            "image/png": "[encoded data removed]"
          },
          "metadata": {
            "needs_background": "light"
          }
        }
      ]
    },
    {
      "cell_type": "code",
      "source": [
        "plt.show()"
      ],
      "metadata": {
        "id": "3XPAWsemHz-d"
      },
      "execution_count": 46,
      "outputs": []
    },
    {
      "cell_type": "markdown",
      "source": [
        "## **2. 변수 사이의 상관 계수를 히트맵으로 시각화**"
      ],
      "metadata": {
        "id": "MBTaGc60IZSQ"
      }
    },
    {
      "cell_type": "markdown",
      "source": [
        "### **age를 카테고리 값으로 바꾸어 age2 변수 추가**"
      ],
      "metadata": {
        "id": "Gsp4VaK6JXYT"
      }
    },
    {
      "cell_type": "markdown",
      "source": [
        "**10살 단위로 등급을 나누어 0~8 값으로 바꿔주는 category_age 함수 작성**"
      ],
      "metadata": {
        "id": "1saO2MAgJbjj"
      }
    },
    {
      "cell_type": "code",
      "source": [
        "def category_age(x):\n",
        "  if x < 10:\n",
        "    return 0\n",
        "  elif x < 20:\n",
        "    return 1\n",
        "  elif x < 30:\n",
        "    return 2\n",
        "  elif x < 40:\n",
        "    return 3\n",
        "  elif x < 50:\n",
        "    return 4\n",
        "  elif x < 60:\n",
        "    return 5\n",
        "  elif x < 70:\n",
        "    return 6\n",
        "  else:\n",
        "    return 7"
      ],
      "metadata": {
        "id": "yq3KhlT6IXzp"
      },
      "execution_count": 48,
      "outputs": []
    },
    {
      "cell_type": "markdown",
      "source": [
        "**category_age 함수를 적용하여 새로움 age2열 추가**"
      ],
      "metadata": {
        "id": "UwD5s43GJgTu"
      }
    },
    {
      "cell_type": "code",
      "source": [
        " titanic['age2'] = titanic['age'].apply(category_age)"
      ],
      "metadata": {
        "id": "fBm-C-gtIiC3"
      },
      "execution_count": 49,
      "outputs": []
    },
    {
      "cell_type": "markdown",
      "source": [
        "**성별을 male/female에서 1/0 으로 치환**"
      ],
      "metadata": {
        "id": "iXYxQ9rxJk15"
      }
    },
    {
      "cell_type": "code",
      "source": [
        " titanic['sex'] = titanic['sex'].map({'male':1, 'female':0})"
      ],
      "metadata": {
        "id": "dZPL7NITI5O3"
      },
      "execution_count": 50,
      "outputs": []
    },
    {
      "cell_type": "markdown",
      "source": [
        "**가족 수를 구하여 family 열을 추가**"
      ],
      "metadata": {
        "id": "KjPgITxyJob9"
      }
    },
    {
      "cell_type": "markdown",
      "source": [
        "sibsp : 함께 탑승한 형제자매와 배우자 수\n",
        "\n",
        "\n",
        "++ parch : 함꼐 탑승한 부모/자식 수\n",
        "\n",
        "++ 1 본인"
      ],
      "metadata": {
        "id": "Pb1aBwjfJrZV"
      }
    },
    {
      "cell_type": "code",
      "source": [
        " titanic['family'] = titanic['sibsp'] + titanic['parch'] + 1"
      ],
      "metadata": {
        "id": "q35HhNmNI7Id"
      },
      "execution_count": 51,
      "outputs": []
    },
    {
      "cell_type": "markdown",
      "source": [
        "**수정된 데이터프레임을 titanic3.csv로 저장**"
      ],
      "metadata": {
        "id": "CpNncA31J9Yn"
      }
    },
    {
      "cell_type": "code",
      "source": [
        " titanic.to_csv('C:/Users/kmj/My_Python/7장_data/titanic3.csv', index =False)"
      ],
      "metadata": {
        "colab": {
          "base_uri": "https://localhost:8080/",
          "height": 327
        },
        "id": "uZMdvJ2UI-9U",
        "outputId": "e028bfb7-94e7-40c8-982a-5f403a645b46"
      },
      "execution_count": 52,
      "outputs": [
        {
          "output_type": "error",
          "ename": "FileNotFoundError",
          "evalue": "ignored",
          "traceback": [
            "\u001b[0;31m---------------------------------------------------------------------------\u001b[0m",
            "\u001b[0;31mFileNotFoundError\u001b[0m                         Traceback (most recent call last)",
            "\u001b[0;32m<ipython-input-52-037e91110b2e>\u001b[0m in \u001b[0;36m<module>\u001b[0;34m()\u001b[0m\n\u001b[0;32m----> 1\u001b[0;31m \u001b[0mtitanic\u001b[0m\u001b[0;34m.\u001b[0m\u001b[0mto_csv\u001b[0m\u001b[0;34m(\u001b[0m\u001b[0;34m'C:/Users/kmj/My_Python/7장_data/titanic3.csv'\u001b[0m\u001b[0;34m,\u001b[0m \u001b[0mindex\u001b[0m \u001b[0;34m=\u001b[0m\u001b[0;32mFalse\u001b[0m\u001b[0;34m)\u001b[0m\u001b[0;34m\u001b[0m\u001b[0;34m\u001b[0m\u001b[0m\n\u001b[0m",
            "\u001b[0;32m/usr/local/lib/python3.7/dist-packages/pandas/core/generic.py\u001b[0m in \u001b[0;36mto_csv\u001b[0;34m(self, path_or_buf, sep, na_rep, float_format, columns, header, index, index_label, mode, encoding, compression, quoting, quotechar, line_terminator, chunksize, date_format, doublequote, escapechar, decimal, errors, storage_options)\u001b[0m\n\u001b[1;32m   3480\u001b[0m             \u001b[0mdoublequote\u001b[0m\u001b[0;34m=\u001b[0m\u001b[0mdoublequote\u001b[0m\u001b[0;34m,\u001b[0m\u001b[0;34m\u001b[0m\u001b[0;34m\u001b[0m\u001b[0m\n\u001b[1;32m   3481\u001b[0m             \u001b[0mescapechar\u001b[0m\u001b[0;34m=\u001b[0m\u001b[0mescapechar\u001b[0m\u001b[0;34m,\u001b[0m\u001b[0;34m\u001b[0m\u001b[0;34m\u001b[0m\u001b[0m\n\u001b[0;32m-> 3482\u001b[0;31m             \u001b[0mstorage_options\u001b[0m\u001b[0;34m=\u001b[0m\u001b[0mstorage_options\u001b[0m\u001b[0;34m,\u001b[0m\u001b[0;34m\u001b[0m\u001b[0;34m\u001b[0m\u001b[0m\n\u001b[0m\u001b[1;32m   3483\u001b[0m         )\n\u001b[1;32m   3484\u001b[0m \u001b[0;34m\u001b[0m\u001b[0m\n",
            "\u001b[0;32m/usr/local/lib/python3.7/dist-packages/pandas/io/formats/format.py\u001b[0m in \u001b[0;36mto_csv\u001b[0;34m(self, path_or_buf, encoding, sep, columns, index_label, mode, compression, quoting, quotechar, line_terminator, chunksize, date_format, doublequote, escapechar, errors, storage_options)\u001b[0m\n\u001b[1;32m   1103\u001b[0m             \u001b[0mformatter\u001b[0m\u001b[0;34m=\u001b[0m\u001b[0mself\u001b[0m\u001b[0;34m.\u001b[0m\u001b[0mfmt\u001b[0m\u001b[0;34m,\u001b[0m\u001b[0;34m\u001b[0m\u001b[0;34m\u001b[0m\u001b[0m\n\u001b[1;32m   1104\u001b[0m         )\n\u001b[0;32m-> 1105\u001b[0;31m         \u001b[0mcsv_formatter\u001b[0m\u001b[0;34m.\u001b[0m\u001b[0msave\u001b[0m\u001b[0;34m(\u001b[0m\u001b[0;34m)\u001b[0m\u001b[0;34m\u001b[0m\u001b[0;34m\u001b[0m\u001b[0m\n\u001b[0m\u001b[1;32m   1106\u001b[0m \u001b[0;34m\u001b[0m\u001b[0m\n\u001b[1;32m   1107\u001b[0m         \u001b[0;32mif\u001b[0m \u001b[0mcreated_buffer\u001b[0m\u001b[0;34m:\u001b[0m\u001b[0;34m\u001b[0m\u001b[0;34m\u001b[0m\u001b[0m\n",
            "\u001b[0;32m/usr/local/lib/python3.7/dist-packages/pandas/io/formats/csvs.py\u001b[0m in \u001b[0;36msave\u001b[0;34m(self)\u001b[0m\n\u001b[1;32m    241\u001b[0m             \u001b[0merrors\u001b[0m\u001b[0;34m=\u001b[0m\u001b[0mself\u001b[0m\u001b[0;34m.\u001b[0m\u001b[0merrors\u001b[0m\u001b[0;34m,\u001b[0m\u001b[0;34m\u001b[0m\u001b[0;34m\u001b[0m\u001b[0m\n\u001b[1;32m    242\u001b[0m             \u001b[0mcompression\u001b[0m\u001b[0;34m=\u001b[0m\u001b[0mself\u001b[0m\u001b[0;34m.\u001b[0m\u001b[0mcompression\u001b[0m\u001b[0;34m,\u001b[0m\u001b[0;34m\u001b[0m\u001b[0;34m\u001b[0m\u001b[0m\n\u001b[0;32m--> 243\u001b[0;31m             \u001b[0mstorage_options\u001b[0m\u001b[0;34m=\u001b[0m\u001b[0mself\u001b[0m\u001b[0;34m.\u001b[0m\u001b[0mstorage_options\u001b[0m\u001b[0;34m,\u001b[0m\u001b[0;34m\u001b[0m\u001b[0;34m\u001b[0m\u001b[0m\n\u001b[0m\u001b[1;32m    244\u001b[0m         ) as handles:\n\u001b[1;32m    245\u001b[0m \u001b[0;34m\u001b[0m\u001b[0m\n",
            "\u001b[0;32m/usr/local/lib/python3.7/dist-packages/pandas/io/common.py\u001b[0m in \u001b[0;36mget_handle\u001b[0;34m(path_or_buf, mode, encoding, compression, memory_map, is_text, errors, storage_options)\u001b[0m\n\u001b[1;32m    705\u001b[0m                 \u001b[0mencoding\u001b[0m\u001b[0;34m=\u001b[0m\u001b[0mioargs\u001b[0m\u001b[0;34m.\u001b[0m\u001b[0mencoding\u001b[0m\u001b[0;34m,\u001b[0m\u001b[0;34m\u001b[0m\u001b[0;34m\u001b[0m\u001b[0m\n\u001b[1;32m    706\u001b[0m                 \u001b[0merrors\u001b[0m\u001b[0;34m=\u001b[0m\u001b[0merrors\u001b[0m\u001b[0;34m,\u001b[0m\u001b[0;34m\u001b[0m\u001b[0;34m\u001b[0m\u001b[0m\n\u001b[0;32m--> 707\u001b[0;31m                 \u001b[0mnewline\u001b[0m\u001b[0;34m=\u001b[0m\u001b[0;34m\"\"\u001b[0m\u001b[0;34m,\u001b[0m\u001b[0;34m\u001b[0m\u001b[0;34m\u001b[0m\u001b[0m\n\u001b[0m\u001b[1;32m    708\u001b[0m             )\n\u001b[1;32m    709\u001b[0m         \u001b[0;32melse\u001b[0m\u001b[0;34m:\u001b[0m\u001b[0;34m\u001b[0m\u001b[0;34m\u001b[0m\u001b[0m\n",
            "\u001b[0;31mFileNotFoundError\u001b[0m: [Errno 2] No such file or directory: 'C:/Users/kmj/My_Python/7장_data/titanic3.csv'"
          ]
        }
      ]
    },
    {
      "cell_type": "markdown",
      "source": [
        "### **상관 분석 결과를 히트맵으로 나타내기**"
      ],
      "metadata": {
        "id": "jUJGCsrcKDqH"
      }
    },
    {
      "cell_type": "markdown",
      "source": [
        "**히트맵에 사용할 데이터 추출**"
      ],
      "metadata": {
        "id": "F10QJJ8QKMs6"
      }
    },
    {
      "cell_type": "code",
      "source": [
        "heatmap_data = titanic[['survived', 'sex', 'age2', 'family', 'pclass','fare']]"
      ],
      "metadata": {
        "id": "UlwtNw_cJAyl"
      },
      "execution_count": 53,
      "outputs": []
    },
    {
      "cell_type": "markdown",
      "source": [
        "**히트맵에 사용할 색상맵 지정**"
      ],
      "metadata": {
        "id": "cXkOHsXgKPe0"
      }
    },
    {
      "cell_type": "code",
      "source": [
        "colormap = plt.cm.RdBu"
      ],
      "metadata": {
        "id": "mo7niE2NJB-o"
      },
      "execution_count": 54,
      "outputs": []
    },
    {
      "cell_type": "markdown",
      "source": [
        "**corr() 함수로 구한 상관 계수로 히트맵 생성**"
      ],
      "metadata": {
        "id": "2nRuAjzGKRvF"
      }
    },
    {
      "cell_type": "code",
      "source": [
        "sns.heatmap(heatmap_data.astype(float).corr(), linewidths = 0.1, vmax= 1.0, square = True, cmap = colormap, linecolor = 'white', annot = True,annot_kws = {\"size\": 10})"
      ],
      "metadata": {
        "colab": {
          "base_uri": "https://localhost:8080/",
          "height": 287
        },
        "id": "LBSILZLaJDir",
        "outputId": "9c439675-e43c-43fc-b496-9cb228fe0712"
      },
      "execution_count": 55,
      "outputs": [
        {
          "output_type": "execute_result",
          "data": {
            "text/plain": [
              "<matplotlib.axes._subplots.AxesSubplot at 0x7fe05bcb6350>"
            ]
          },
          "metadata": {},
          "execution_count": 55
        },
        {
          "output_type": "display_data",
          "data": {
            "text/plain": [
              "<Figure size 432x288 with 2 Axes>"
            ],
            "image/png": "[encoded data removed]"
          },
          "metadata": {
            "needs_background": "light"
          }
        }
      ]
    },
    {
      "cell_type": "code",
      "source": [
        "plt.show()"
      ],
      "metadata": {
        "id": "nNPvFw11JFH6"
      },
      "execution_count": 56,
      "outputs": []
    },
    {
      "cell_type": "code",
      "source": [
        ""
      ],
      "metadata": {
        "id": "h-MzWrygJHJr"
      },
      "execution_count": null,
      "outputs": []
    }
  ]
}